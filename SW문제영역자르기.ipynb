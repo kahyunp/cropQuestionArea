{
  "nbformat": 4,
  "nbformat_minor": 0,
  "metadata": {
    "colab": {
      "name": "SW문제영역자르기.ipynb",
      "private_outputs": true,
      "provenance": [],
      "collapsed_sections": [],
      "include_colab_link": true
    },
    "kernelspec": {
      "name": "python3",
      "display_name": "Python 3"
    }
  },
  "cells": [
    {
      "cell_type": "markdown",
      "metadata": {
        "id": "view-in-github",
        "colab_type": "text"
      },
      "source": [
        "<a href=\"https://colab.research.google.com/github/kahyunp/viva/blob/main/SW%EB%AC%B8%EC%A0%9C%EC%98%81%EC%97%AD%EC%9E%90%EB%A5%B4%EA%B8%B0.ipynb\" target=\"_parent\"><img src=\"https://colab.research.google.com/assets/colab-badge.svg\" alt=\"Open In Colab\"/></a>"
      ]
    },
    {
      "cell_type": "code",
      "metadata": {
        "id": "7kpa7tX_BNy8"
      },
      "source": [
        ""
      ],
      "execution_count": null,
      "outputs": []
    },
    {
      "cell_type": "code",
      "metadata": {
        "id": "E2mPJgpu79Fj"
      },
      "source": [
        "! apt install tesseract-ocr\n",
        "! apt install libtesseract-dev\n",
        "! pip install Pillow\n",
        "! pip install pytesseract\n",
        "! sudo apt-get install tesseract-ocr-script-hang tesseract-ocr-script-hang-vert"
      ],
      "execution_count": null,
      "outputs": []
    },
    {
      "cell_type": "markdown",
      "metadata": {
        "id": "T2_NmJean6uG"
      },
      "source": [
        ""
      ]
    },
    {
      "cell_type": "code",
      "metadata": {
        "id": "tWPp_EDrS2l5"
      },
      "source": [
        "def cropTop(image):\n",
        "    img=cv2.imread(image)\n",
        "    #cv2_imshow(src)\n",
        "    dst = img.copy()\n",
        "    h,w,_=img.shape\n",
        "    cv2_imshow(img)\n",
        "    #이미지 흑백화 \n",
        "    imgray = cv2.cvtColor(img, cv2.COLOR_BGR2GRAY) \n",
        "    img2=imgray.copy()\n",
        "\n",
        "    #이미지 이진화 (스캔본 처럼)\n",
        "    blur = cv2.GaussianBlur(imgray, ksize=(3,3), sigmaX=0)\n",
        "    thresh = cv2.threshold(blur, 0, 255, cv2.THRESH_BINARY+cv2.THRESH_OTSU)[1]\n",
        "\n",
        "    # Morph operations\n",
        "    edge = cv2.Canny(imgray, 100, 200)\n",
        "    kernel = cv2.getStructuringElement(cv2.MORPH_RECT,(100,100))\n",
        "    closed = cv2.morphologyEx(edge, cv2.MORPH_CLOSE, kernel)\n",
        "\n",
        "\t\n",
        "    contours, hierarchy = cv2.findContours(closed.copy(),cv2.RETR_TREE, cv2.CHAIN_APPROX_NONE)\n",
        "\n",
        "    #cv2.drawContours(img,contours,-1,(255,0,0),10)\n",
        "    #cv2_imshow(img)\n",
        "    #경계를 직사각형으로 찾기\n",
        "    rects = [cv2.boundingRect(each) for each in contours]\n",
        "  \n",
        "    page=sorted(rects, key= lambda x: x[1])[-1]\n",
        "    body=max(rects, key= lambda x: x[2]*x[3])\n",
        "    length=w-page[1]\n",
        "\n",
        "\n",
        "    \n",
        "    #cv2.rectangle(img,(body[0],body[1]),(body[0]+body[2],body[1]+body[3]),(255,255,0),13)\n",
        "    #cv2_imshow(img)    \n",
        "    margin=15\n",
        "    \n",
        "    bottom=imgray[page[1]-margin:,:]\n",
        "    blank=bottom.shape[0]\n",
        "    # print(blank)\n",
        "    # print(body)\n",
        "    content=imgray[body[1]+blank-margin:body[1]+body[3],body[0]-margin:body[0]+body[2]+margin]\n",
        "    half=int(content.shape[1]/2)\n",
        "    left=content[:,:half-margin]\n",
        "    right=content[:,half+margin:]\n",
        "    #cv2_imshow(bottom)\n",
        "    contour(left)\n",
        "    contour(right)\n",
        "    # print(len(rects))\n",
        "\n",
        "    #print(miny)\n",
        "    #cv2_imshow(body)\n",
        "        \n",
        "    return header,body\n",
        "      \n",
        "     \n",
        "       \n",
        "\n"
      ],
      "execution_count": null,
      "outputs": []
    },
    {
      "cell_type": "code",
      "metadata": {
        "id": "1t7zLcImp1pT"
      },
      "source": [
        "#@title\n",
        "import cv2\n",
        "import numpy as np\n",
        "from google.colab.patches import cv2_imshow\n",
        "import glob\n",
        "import os\n",
        "\n",
        "from PIL import ImageEnhance, ImageFilter, Image\n",
        "if __name__ == \"__main__\":\n",
        "    \n",
        "    os.chdir('/content/drive/MyDrive/GRADING_Study/kh/swraw/')\n",
        "    images=glob.glob('./*.png')\n",
        "    images.sort()\n",
        "    print(images)\n",
        "    qnum=0\n",
        "    for i in range(len(images)):\n",
        "        filename=images[i]\n",
        "        print(filename)\n",
        "        cropTop(filename)\n",
        "       \n",
        "        #cropCenter(filename)\n",
        "        #readPage(filename[-6:],header)"
      ],
      "execution_count": null,
      "outputs": []
    },
    {
      "cell_type": "code",
      "metadata": {
        "id": "n2WkiJZMCKAb"
      },
      "source": [
        ""
      ],
      "execution_count": null,
      "outputs": []
    },
    {
      "cell_type": "code",
      "metadata": {
        "id": "BWVlSuGYxujT"
      },
      "source": [
        ""
      ],
      "execution_count": null,
      "outputs": []
    },
    {
      "cell_type": "code",
      "metadata": {
        "id": "1OBVLyCLC9b6"
      },
      "source": [
        "\n",
        "#반페이지를 입력받고 크롭하기 \n",
        "def contour(page_rl):\n",
        "    import pytesseract\n",
        "\n",
        "    print(\"contour\")\n",
        "\n",
        "    last=page_rl.shape[0]\n",
        "\n",
        "    #이미지 흑백화 \n",
        "    imgray = page_rl.copy()\n",
        "    #이미지 이진화 (스캔본 처럼)\n",
        "    blur = cv2.GaussianBlur(imgray, (3,3), 0)\n",
        "    thresh = cv2.threshold(blur, 0, 255, cv2.THRESH_BINARY+cv2.THRESH_OTSU)[1]\n",
        "\n",
        "\n",
        "    # Morph operations\n",
        "    edge = cv2.Canny(imgray, 100, 200)\n",
        "    kernel = cv2.getStructuringElement(cv2.MORPH_RECT,(1000,100))\n",
        "    closed = cv2.morphologyEx(edge, cv2.MORPH_CLOSE, kernel)\n",
        "\n",
        "\t\n",
        "    contours, hierarchy = cv2.findContours(closed.copy(),cv2.RETR_TREE, cv2.CHAIN_APPROX_SIMPLE)\n",
        "    \n",
        "    \n",
        "    #한페이지 내에서 문제 순서대로 불러오기\n",
        "    contours=reversed(contours)\n",
        "\n",
        "    #cv2.drawContours(page_rl,contours,-1,(0,255,0),10)\n",
        "    #cv2_imshow(imgray)\n",
        "\t#한페이지 내의 모든 폐곡선 범위에 대해 실행 \n",
        "    top=[]\n",
        "    for c in contours:\n",
        "\n",
        "\t\t#폐곡선 바운더리 \n",
        "        x,y,w,h = cv2.boundingRect(c)\n",
        "        top.append(y)\n",
        "    top.append(last)\n",
        "    \n",
        "\n",
        "    # print(top)\n",
        "    total=len(top)-1\n",
        "    # global qnum\n",
        "    for i in range(total):\n",
        "        print(\"Q\")\n",
        "        if (i==0):\n",
        "            img_trim=page_rl[0:top[i+1]-5,:]\n",
        "        else:\n",
        "            img_trim=page_rl[top[i]-10:top[i+1]-5,:]\n",
        "        #cv2.imwrite('/content/MyDrive/GRADIING_Study/kh/trim/'+str(qnum)+'.png',img_trim)\n",
        "        d=pytesseract.image_to_string(img_trim)\n",
        "        d=d.replace(' ','')\n",
        "        book_serial='20050-'\n",
        "        if (book_serial in d):\n",
        "            start=d.find(book_serial)\n",
        "            serial=d[start:start+10]\n",
        "            print(serial)\n",
        "            cv2_imshow(img_trim)"
      ],
      "execution_count": null,
      "outputs": []
    },
    {
      "cell_type": "code",
      "metadata": {
        "id": "5iORdcnIBoYg"
      },
      "source": [
        "def cropCenter(img):\n",
        "    src=cv2.imread(img)\n",
        "    dst = src.copy()\n",
        "    gray = cv2.cvtColor(src, cv2.COLOR_BGR2GRAY)\n",
        "    canny = cv2.Canny(gray, 5000, 1500, apertureSize = 5, L2gradient = True)\n",
        "    lines = cv2.HoughLines(canny, 0.8, np.pi / 180, 150, srn = 100, stn = 200, min_theta = 0, max_theta = np.pi/8)\n",
        "    row=0\n",
        "    col=0\n",
        "    for i in lines:\n",
        "        rho, theta = i[0][0], i[0][1]\n",
        "        a, b = np.cos(theta), np.sin(theta)\n",
        "        x0, y0 = a*rho, b*rho\n",
        "        print(\"x0\",x0,\"y0\",y0)\n",
        "        scale = src.shape[0] + src.shape[1]\n",
        "\n",
        "        x1 = int(x0 + scale * -b)\n",
        "        y1 = int(y0 + scale * a)\n",
        "        x2 = int(x0 - scale * -b)\n",
        "        y2 = int(y0 - scale * a)\n",
        "        row=x2\n",
        "        col=y2\n",
        "        cv2.line(dst, (x1, y1), (x2, y2), (0, 0, 255), 2)\n",
        "        cv2.circle(dst, (x0, y0), 3, (255, 0, 0), 1, cv2.FILLED)\n",
        "\n",
        "    #left = src[:, :row-15]\n",
        "    #right= src[:,row+15:]\n",
        "   \n",
        "    cv2_imshow(dst)\n",
        "    #contour(left)\n",
        "    #contour(right)"
      ],
      "execution_count": null,
      "outputs": []
    },
    {
      "cell_type": "code",
      "metadata": {
        "id": "aQN0JOIQAe9S"
      },
      "source": [
        "\n",
        "#반페이지를 입력받고 크롭하기 \n",
        "def contour(page_rl):\n",
        "    print(\"contour\")\n",
        "\n",
        "    #이미지 흑백화 \n",
        "    imgray = cv2.cvtColor(page_rl, cv2.COLOR_BGR2GRAY) \n",
        "    img2=imgray.copy()\n",
        "    #이미지 이진화 (스캔본 처럼)\n",
        "    blur = cv2.GaussianBlur(imgray, (3,3), 0)\n",
        "    thresh = cv2.threshold(blur, 70, 255, cv2.THRESH_BINARY+cv2.THRESH_OTSU)[1]\n",
        "\n",
        "\n",
        "    # Morph operations\n",
        "    edge = cv2.Canny(imgray, 100, 200)\n",
        "    kernel = cv2.getStructuringElement(cv2.MORPH_RECT,(1000,200))\n",
        "    closed = cv2.morphologyEx(edge, cv2.MORPH_CLOSE, kernel)\n",
        "\n",
        "\t\n",
        "    contours, hierarchy = cv2.findContours(closed.copy(),cv2.RETR_TREE, cv2.CHAIN_APPROX_SIMPLE)\n",
        "    \n",
        "\n",
        "    contours_xy = np.array(contours , dtype=object)\n",
        "    contours_xy.shape\n",
        "    #한페이지 내에서 문제 순서대로 불러오기\n",
        "    contours=reversed(contours)\n",
        "\n",
        "\n",
        "\t#한페이지 내의 모든 폐곡선 범위에 대해 실행 \n",
        "    top=[]\n",
        "    for c in contours:\n",
        "\n",
        "\t\t#폐곡선 바운더리 \n",
        "        x,y,w,h = cv2.boundingRect(c)\n",
        "        top.append(y)\n",
        "        #cv2.rectangle(page_rl, (x,y), (w,h), (0,0,255), 3) \n",
        "        #img_trim = page_rl[y:y+h+20 , :]\n",
        "        #cv2_imshow(img_trim)\n",
        "            #cv2.imwrite('/content/drive/MyDrive/GRADING_Study/kh/trim/'+str (qnum)+'.png',img_trim)\n",
        "            #cv2_imshow(page_rl)\n",
        "            #include(img_trim)\n",
        "    print(top)\n",
        "    total=len(top)-1\n",
        "    global qnum\n",
        "    for i in range(total):\n",
        "        qnum+=1\n",
        "        if (i==0):\n",
        "            img_trim=page_rl[top[i]:top[i+1]-5,:]\n",
        "        else:\n",
        "            img_trim=page_rl[top[i]-10:top[i+1]-5,:]\n",
        "        #cv2.imwrite('/content/MyDrive/GRADIING_Study/kh/trim/'+str(qnum)+'.png',img_trim)\n",
        "        print(qnum)\n",
        "        #cv2_imshow(img_trim)"
      ],
      "execution_count": null,
      "outputs": []
    },
    {
      "cell_type": "code",
      "metadata": {
        "id": "E7rEv9XfCIlo"
      },
      "source": [
        "def readPage(name,img):\n",
        "    path='/content/drive/MyDrive/GRADING_Study/kh/header/'\n",
        "    cv2_imshow(img)\n",
        "    print(path+name)\n",
        "    cv2.imwrite(path+name, img)"
      ],
      "execution_count": null,
      "outputs": []
    },
    {
      "cell_type": "code",
      "metadata": {
        "id": "aW7oZFTdB0hm"
      },
      "source": [
        ""
      ],
      "execution_count": null,
      "outputs": []
    },
    {
      "cell_type": "code",
      "metadata": {
        "id": "Ra8PtWLLBpRk"
      },
      "source": [
        ""
      ],
      "execution_count": null,
      "outputs": []
    },
    {
      "cell_type": "code",
      "metadata": {
        "id": "tTY5zMRxBLnk"
      },
      "source": [
        ""
      ],
      "execution_count": null,
      "outputs": []
    },
    {
      "cell_type": "code",
      "metadata": {
        "id": "VDgyAlj5zGOy"
      },
      "source": [
        "def cropCenter(img):\n",
        "    src=img\n",
        "    dst=src.copy\n",
        "    w=int (img.shape[1]/2)\n",
        "    left=src[:,:w-5]\n",
        "    right=src[:,w+5:]\n",
        "    #cv2_imshow(left)\n",
        "    #cv2_imshow(right)\n",
        "    contour(left)\n",
        "    contour(right)\n"
      ],
      "execution_count": null,
      "outputs": []
    },
    {
      "cell_type": "code",
      "metadata": {
        "id": "GsN84HOFz2en"
      },
      "source": [
        ""
      ],
      "execution_count": null,
      "outputs": []
    },
    {
      "cell_type": "code",
      "metadata": {
        "id": "KIbmrhXVz_DR"
      },
      "source": [
        "\n",
        "def include(cropped):\n",
        "  \n",
        "    d = pytesseract.image_to_string(cropped, lang='eng+Hangul')\n",
        "    d=d.replace(' ','')\n",
        "    print(d)"
      ],
      "execution_count": null,
      "outputs": []
    },
    {
      "cell_type": "code",
      "metadata": {
        "id": "NcR9mBzH8aTF"
      },
      "source": [
        ""
      ],
      "execution_count": null,
      "outputs": []
    }
  ]
}