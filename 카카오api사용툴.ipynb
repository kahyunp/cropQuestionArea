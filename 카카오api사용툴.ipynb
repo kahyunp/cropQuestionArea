{
  "nbformat": 4,
  "nbformat_minor": 0,
  "metadata": {
    "colab": {
      "name": "카카오api사용툴.ipynb",
      "private_outputs": true,
      "provenance": [],
      "collapsed_sections": []
    },
    "kernelspec": {
      "name": "python3",
      "display_name": "Python 3"
    }
  },
  "cells": [
    {
      "cell_type": "code",
      "metadata": {
        "id": "kAMhlMpFs7-n"
      },
      "source": [
        "from google.colab import drive\n",
        "drive.mount('/content/drive')"
      ],
      "execution_count": null,
      "outputs": []
    },
    {
      "cell_type": "code",
      "metadata": {
        "id": "7kpa7tX_BNy8"
      },
      "source": [
        ""
      ],
      "execution_count": null,
      "outputs": []
    },
    {
      "cell_type": "code",
      "metadata": {
        "id": "E2mPJgpu79Fj"
      },
      "source": [
        "! apt install tesseract-ocr\n",
        "! apt install libtesseract-dev\n",
        "! pip install Pillow\n",
        "! pip install pytesseract\n",
        "! sudo apt-get install tesseract-ocr-script-hang tesseract-ocr-script-hang-vert"
      ],
      "execution_count": null,
      "outputs": []
    },
    {
      "cell_type": "markdown",
      "metadata": {
        "id": "T2_NmJean6uG"
      },
      "source": [
        ""
      ]
    },
    {
      "cell_type": "code",
      "metadata": {
        "id": "i9xlG7tNtYhq"
      },
      "source": [
        "!git clone https://github.com/tesseract-ocr/tesseract"
      ],
      "execution_count": null,
      "outputs": []
    },
    {
      "cell_type": "code",
      "metadata": {
        "id": "n20lwduytgfX"
      },
      "source": [
        "!git clone https://github.com/tesseract-ocr/langdata"
      ],
      "execution_count": null,
      "outputs": []
    },
    {
      "cell_type": "code",
      "metadata": {
        "id": "_TF1CTf2tm7C"
      },
      "source": [
        "!git clone https://github.com/tesseract-ocr/tessdata_best"
      ],
      "execution_count": null,
      "outputs": []
    },
    {
      "cell_type": "code",
      "metadata": {
        "id": "1t7zLcImp1pT"
      },
      "source": [
        "import cv2\n",
        "import numpy as np\n",
        "from google.colab.patches import cv2_imshow\n",
        "import glob\n",
        "import os\n",
        "import pytesseract\n",
        "from PIL import ImageEnhance, ImageFilter, Image\n",
        "if __name__ == \"__main__\":\n",
        "    \n",
        "    #os.chdir('/content/drive/MyDrive/ProjectStudy/workbooks/raw_data/Pyeonga/2021/2021_06_ga/')\n",
        "    image='/content/drive/MyDrive/ts/swpg.jpg'\n",
        "    white = [255,255,255]\n",
        "    img=cv2.imread(image)\n",
        "    constant= cv2.copyMakeBorder(img,200,100,100,100,cv2.BORDER_CONSTANT,value=white)\n",
        "\n",
        "    cv2_imshow(img)\n",
        "    cv2_imshow(constant)\n",
        "    d=pytesseract.image_to_string(constant, lang='eng+Hangul')\n",
        "    print(\"d:\", d)\n"
      ],
      "execution_count": null,
      "outputs": []
    },
    {
      "cell_type": "code",
      "metadata": {
        "id": "Oj0N_017vOJl"
      },
      "source": [
        "import json\n",
        "import time\n",
        "import cv2\n",
        "import requests\n",
        "import sys\n",
        "from google.colab.patches import cv2_imshow\n",
        "LIMIT_PX = 1024\n",
        "LIMIT_BYTE = 1024*1024  # 1MB\n",
        "LIMIT_BOX = 40\n",
        "\n",
        "\n",
        "def kakao_ocr_resize(image_path: str):\n",
        "    \"\"\"\n",
        "    ocr detect/recognize api helper\n",
        "    ocr api의 제약사항이 넘어서는 이미지는 요청 이전에 전처리가 필요.\n",
        "\n",
        "    pixel 제약사항 초과: resize\n",
        "    용량 제약사항 초과  : 다른 포맷으로 압축, 이미지 분할 등의 처리 필요. (예제에서 제공하지 않음)\n",
        "\n",
        "    :param image_path: 이미지파일 경로\n",
        "    :return:\n",
        "    \"\"\"\n",
        "    image = cv2.imread(image_path)\n",
        " \n",
        "    height, width, _ = image.shape\n",
        "\n",
        "    if LIMIT_PX < height or LIMIT_PX < width:\n",
        "        ratio = float(LIMIT_PX) / max(height, width)\n",
        "        image = cv2.resize(image, None, fx=ratio, fy=ratio)\n",
        "        height, width, _ = height, width, _ = image.shape\n",
        "\n",
        "        # api 사용전에 이미지가 resize된 경우, recognize시 resize된 결과를 사용해야함.\n",
        "        image_path = \"{}_resized.jpg\".format(image_path)\n",
        "        cv2.imwrite(image_path, image)\n",
        "\n",
        "        return image_path\n",
        "    return None\n",
        "\n",
        "\n",
        "def kakao_ocr(image_path: str, appkey: str):\n",
        "    \"\"\"\n",
        "    OCR api request example\n",
        "    :param image_path: 이미지파일 경로\n",
        "    :param appkey: 카카오 앱 REST API 키\n",
        "    \"\"\"\n",
        "    API_URL = 'https://dapi.kakao.com/v2/vision/text/ocr'\n",
        "\n",
        "    headers = {'Authorization': 'KakaoAK {}'.format(appkey)}\n",
        "\n",
        "    image = cv2.imread(image_path)\n",
        "    jpeg_image = cv2.imencode(\".jpg\", image)[1]\n",
        "    data = jpeg_image.tobytes()\n",
        "\n",
        "\n",
        "    return requests.post(API_URL, headers=headers, files={\"image\": data})\n",
        "\n",
        "\n",
        "def main():\n",
        "    if len(sys.argv) != 3:\n",
        "        print(\"Please run with args: $ python example.py /path/to/image appkey\")\n",
        "    image_path, appkey = '/content/drive/MyDrive/ts/swpg.png', '앱키'\n",
        "    white = [255,255,255]\n",
        "    img=cv2.imread(image_path)\n",
        "    constant= cv2.copyMakeBorder(img,200,100,100,100,cv2.BORDER_CONSTANT,value=white)\n",
        "    image_path='/content/drive/MyDrive/ts/swpg.jpg'\n",
        "    cv2.imwrite(image_path, constant)\n",
        "    cv2_imshow(constant)\n",
        "    time.sleep(2)\n",
        "    resize_impath = kakao_ocr_resize(image_path)\n",
        "    if resize_impath is not None:\n",
        "        image_path = resize_impath\n",
        "        print(\"원본 대신 리사이즈된 이미지를 사용합니다.\")\n",
        "\n",
        "    output = kakao_ocr(image_path, appkey).json()\n",
        "    print(\"[OCR] output:\\n{}\\n\".format(json.dumps(output, sort_keys=True,ensure_ascii=False, indent=2)))\n",
        "\n",
        "\n",
        "if __name__ == \"__main__\":\n",
        "    main()\n",
        "  \n",
        "\n"
      ],
      "execution_count": null,
      "outputs": []
    },
    {
      "cell_type": "code",
      "metadata": {
        "id": "B3E2Okjxfyq8"
      },
      "source": [
        "!pip install --upgrade imutils\n",
        "!pip install pyimagesearch"
      ],
      "execution_count": null,
      "outputs": []
    },
    {
      "cell_type": "code",
      "metadata": {
        "id": "zuXlyNsxfGto"
      },
      "source": [
        "from pyimagesearch.transform import four_point_transform\n",
        "from skimage.filters import threshold_local\n",
        "import numpy as np\n",
        "import argparse\n",
        "import cv2\n",
        "import imutils\n",
        "def scanphoto(imgfile):\n",
        "    image=cv2.imread(imgfile)\n",
        "    ratio= image.shape[0]/500.0\n",
        "    orig=image.copy()\n",
        "    image=imutils.resize(image,height=500)\n",
        "\n",
        "    gray=cv2.cvtColor(image, cv2.COLOR_BGR2GRAY)\n",
        "    gray=cv2.GaussianBlur(gray,(5,5),0)\n",
        "    edged=cv2.Canny(gray,75,200)\n",
        "\n",
        "    print(\"STEP1\")\n",
        "    cv2_imshow(image)\n",
        "    cv2_imshow(edged)\n"
      ],
      "execution_count": null,
      "outputs": []
    },
    {
      "cell_type": "code",
      "metadata": {
        "id": "n2WkiJZMCKAb"
      },
      "source": [
        "def readPage(name,img):\n",
        "    #path='/content/drive/MyDrive/GRADING_Study/kh/header/'\n",
        "    cv2_imshow(img)\n",
        "    #print(path+name)\n",
        "    #cv2.imwrite(path+name, img)"
      ],
      "execution_count": null,
      "outputs": []
    },
    {
      "cell_type": "code",
      "metadata": {
        "id": "BWVlSuGYxujT"
      },
      "source": [
        "def cropTop(image):\n",
        "    src=cv2.imread(image)\n",
        "    #cv2_imshow(src)\n",
        "    dst = src.copy()\n",
        "    gray = cv2.cvtColor(src, cv2.COLOR_BGR2GRAY)\n",
        "    canny = cv2.Canny(gray, 5000, 1500, apertureSize = 5, L2gradient = True)\n",
        "    #min_theta=0 max_theta=np.pi/2\n",
        " \n",
        "    lines = cv2.HoughLines(canny, 0.8, np.pi / 180, 220, srn = 100, stn = 200, min_theta = 89, max_theta = 91)\n",
        "\n",
        "    miny=700\n",
        "\n",
        "    for i in lines:\n",
        "        rho, theta = i[0][0], i[0][1]\n",
        "        #print(theta)\n",
        "        a, b = np.cos(theta), np.sin(theta)\n",
        "        x0, y0 = a*rho, b*rho\n",
        "        \n",
        "        scale = src.shape[0] + src.shape[1]\n",
        "\n",
        "        x1 = int(x0 + scale * -b)\n",
        "        y1 = int(y0 + scale * a)\n",
        "        x2 = int(x0 - scale * -b)\n",
        "        y2 = int(y0 - scale * a)\n",
        "        #print(\"y1\",y1,\"y2\",y2)\n",
        "        if (y2 < miny):\n",
        "            miny=y2\n",
        "        cv2.line(dst, (x1, y1), (x2, y2), (0, 0, 255), 2)\n",
        "        #cv2.circle(dst, (x0, y0), 3, (255, 0, 0), 1, cv2.FILLED)\n",
        "        header = src[:miny, :]\n",
        "        body=src[miny+10:,:]\n",
        "    #print(miny)\n",
        "    #cv2_imshow(body)\n",
        "        \n",
        "    return header,body\n",
        "      \n",
        "     \n",
        "       \n",
        "\n"
      ],
      "execution_count": null,
      "outputs": []
    },
    {
      "cell_type": "code",
      "metadata": {
        "id": "5iORdcnIBoYg"
      },
      "source": [
        ""
      ],
      "execution_count": null,
      "outputs": []
    },
    {
      "cell_type": "code",
      "metadata": {
        "id": "aQN0JOIQAe9S"
      },
      "source": [
        "def cropCenter(img):\n",
        "    src=img\n",
        "    dst=src.copy\n",
        "    w=int (img.shape[1]/2)\n",
        "    left=src[:,:w-5]\n",
        "    right=src[:,w+5:]\n",
        "    print(\"left\")\n",
        "    cv2_imshow(left)\n",
        "    print(\"right\")\n",
        "    cv2_imshow(right)\n",
        "    contour(left)\n",
        "    contour(right)\n"
      ],
      "execution_count": null,
      "outputs": []
    },
    {
      "cell_type": "code",
      "metadata": {
        "id": "E7rEv9XfCIlo"
      },
      "source": [
        ""
      ],
      "execution_count": null,
      "outputs": []
    },
    {
      "cell_type": "code",
      "metadata": {
        "id": "aW7oZFTdB0hm"
      },
      "source": [
        ""
      ],
      "execution_count": null,
      "outputs": []
    },
    {
      "cell_type": "code",
      "metadata": {
        "id": "Ra8PtWLLBpRk"
      },
      "source": [
        ""
      ],
      "execution_count": null,
      "outputs": []
    },
    {
      "cell_type": "code",
      "metadata": {
        "id": "tTY5zMRxBLnk"
      },
      "source": [
        ""
      ],
      "execution_count": null,
      "outputs": []
    },
    {
      "cell_type": "code",
      "metadata": {
        "id": "VDgyAlj5zGOy"
      },
      "source": [
        "def cropCenter(img):\n",
        "    src=img\n",
        "    dst = src.copy()\n",
        "    gray = cv2.cvtColor(src, cv2.COLOR_BGR2GRAY)\n",
        "    canny = cv2.Canny(gray, 5000, 1500, apertureSize = 5, L2gradient = True)\n",
        "    lines = cv2.HoughLines(canny, 0.8, np.pi / 180, 200, srn = 100, stn = 200, min_theta = 0, max_theta = np.pi/8)\n",
        "    row=0\n",
        "    col=0\n",
        "    for i in lines:\n",
        "        rho, theta = i[0][0], i[0][1]\n",
        "        a, b = np.cos(theta), np.sin(theta)\n",
        "        x0, y0 = a*rho, b*rho\n",
        "        print(\"x0\",x0,\"y0\",y0)\n",
        "        scale = src.shape[0] + src.shape[1]\n",
        "\n",
        "        x1 = int(x0 + scale * -b)\n",
        "        y1 = int(y0 + scale * a)\n",
        "        x2 = int(x0 - scale * -b)\n",
        "        y2 = int(y0 - scale * a)\n",
        "        row=x2\n",
        "        col=y2\n",
        "        cv2.line(dst, (x1, y1), (x2, y2), (0, 0, 255), 2)\n",
        "    #cv2.circle(dst, (x0, y0), 3, (255, 0, 0), 1, cv2.FILLED)\n",
        "\n",
        "    left = src[:, :row-15]\n",
        "    right= src[:,row+15:]\n",
        "   \n",
        "    #cv2_imshow(dst)\n",
        "    #contour(left)\n",
        "    #contour(right)"
      ],
      "execution_count": null,
      "outputs": []
    },
    {
      "cell_type": "code",
      "metadata": {
        "id": "GsN84HOFz2en"
      },
      "source": [
        "\n",
        "#반페이지를 입력받고 크롭하기 \n",
        "def contour(page_rl):\n",
        "    print(\"contour\")\n",
        "\n",
        "    #이미지 흑백화 \n",
        "    imgray = cv2.cvtColor(page_rl, cv2.COLOR_BGR2GRAY) \n",
        "    img2=imgray.copy()\n",
        "    #이미지 이진화 (스캔본 처럼)\n",
        "    blur = cv2.GaussianBlur(imgray, (3,3), 0)\n",
        "    thresh = cv2.threshold(blur, 70, 255, cv2.THRESH_BINARY+cv2.THRESH_OTSU)[1]\n",
        "\n",
        "\n",
        "    # Morph operations\n",
        "    edge = cv2.Canny(imgray, 100, 200)\n",
        "    kernel = cv2.getStructuringElement(cv2.MORPH_RECT,(1000,200))\n",
        "    closed = cv2.morphologyEx(edge, cv2.MORPH_CLOSE, kernel)\n",
        "\n",
        "\t\n",
        "    contours, hierarchy = cv2.findContours(closed.copy(),cv2.RETR_TREE, cv2.CHAIN_APPROX_SIMPLE)\n",
        "    \n",
        "\n",
        "    contours_xy = np.array(contours , dtype=object)\n",
        "    contours_xy.shape\n",
        "    #한페이지 내에서 문제 순서대로 불러오기\n",
        "    contours=reversed(contours)\n",
        "\n",
        "\n",
        "\t#한페이지 내의 모든 폐곡선 범위에 대해 실행 \n",
        "    top=[]\n",
        "    for c in contours:\n",
        "\n",
        "\t\t#폐곡선 바운더리 \n",
        "        x,y,w,h = cv2.boundingRect(c)\n",
        "        top.append(y)\n",
        "        #cv2.rectangle(page_rl, (x,y), (w,h), (0,0,255), 3) \n",
        "        #img_trim = page_rl[y:y+h+20 , :]\n",
        "        #cv2_imshow(img_trim)\n",
        "            #cv2.imwrite('/content/drive/MyDrive/GRADING_Study/kh/trim/'+str (qnum)+'.png',img_trim)\n",
        "            #cv2_imshow(page_rl)\n",
        "            #include(img_trim)\n",
        "    print(top)\n",
        "    total=len(top)-1\n",
        "    global qnum\n",
        "    for i in range(total):\n",
        "        qnum+=1\n",
        "        if (i==0):\n",
        "            img_trim=page_rl[top[i]:top[i+1]-5,:]\n",
        "        else:\n",
        "            img_trim=page_rl[top[i]-10:top[i+1]-5,:]\n",
        "        #cv2.imwrite('/content/MyDrive/GRADIING_Study/kh/trim/'+str(qnum)+'.png',img_trim)\n",
        "        print(qnum)\n",
        "        #cv2_imshow(img_trim)"
      ],
      "execution_count": null,
      "outputs": []
    },
    {
      "cell_type": "code",
      "metadata": {
        "id": "KIbmrhXVz_DR"
      },
      "source": [
        "\n",
        "def include(cropped):\n",
        "  \n",
        "    d = pytesseract.image_to_string(cropped, lang='eng+Hangul')\n",
        "    d=d.replace(' ','')\n",
        "    print(d)"
      ],
      "execution_count": null,
      "outputs": []
    },
    {
      "cell_type": "code",
      "metadata": {
        "id": "NcR9mBzH8aTF"
      },
      "source": [
        ""
      ],
      "execution_count": null,
      "outputs": []
    }
  ]
}