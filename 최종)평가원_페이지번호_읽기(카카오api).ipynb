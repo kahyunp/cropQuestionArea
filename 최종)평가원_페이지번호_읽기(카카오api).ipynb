{
  "nbformat": 4,
  "nbformat_minor": 0,
  "metadata": {
    "colab": {
      "name": "최종)평가원 페이지번호 읽기(카카오api).ipynb",
      "private_outputs": true,
      "provenance": [],
      "collapsed_sections": [],
      "mount_file_id": "1nVXNRvGI0BlwIAIYaxgWKoy1dCBqqbE9",
      "authorship_tag": "ABX9TyOBOb168TCz2MK9fmJ41DXW",
      "include_colab_link": true
    },
    "kernelspec": {
      "name": "python3",
      "display_name": "Python 3"
    },
    "accelerator": "GPU"
  },
  "cells": [
    {
      "cell_type": "markdown",
      "metadata": {
        "id": "view-in-github",
        "colab_type": "text"
      },
      "source": [
        "<a href=\"https://colab.research.google.com/github/kahyunp/viva/blob/main/%EC%B5%9C%EC%A2%85)%ED%8F%89%EA%B0%80%EC%9B%90_%ED%8E%98%EC%9D%B4%EC%A7%80%EB%B2%88%ED%98%B8_%EC%9D%BD%EA%B8%B0(%EC%B9%B4%EC%B9%B4%EC%98%A4api).ipynb\" target=\"_parent\"><img src=\"https://colab.research.google.com/assets/colab-badge.svg\" alt=\"Open In Colab\"/></a>"
      ]
    },
    {
      "cell_type": "code",
      "metadata": {
        "id": "O-rqdMb85FMV"
      },
      "source": [
        "from google.colab.patches import cv2_imshow\n",
        "import cv2\n",
        "import matplotlib.pyplot as plt\n",
        "%matplotlib inline\n",
        "import numpy as np\n",
        "import os\n",
        "import glob\n",
        "#이미지 읽어오기\n",
        "def cropBottom(file):\n",
        "    img = cv2.imread(file)\n",
        "  \n",
        "    plt.figure(figsize=(15,12))\n",
        "\n",
        "    #이미지 흑백처리\n",
        "    img_gray=cv2.cvtColor(img, cv2.COLOR_BGR2GRAY) \n",
        "    img_blur = cv2.GaussianBlur(img_gray, (3,3), 0)\n",
        "\n",
        "    #이미지내의 경계 찾기\n",
        "    ret, img_th = cv2.threshold(img_blur, 127, 255, cv2.THRESH_BINARY_INV)\n",
        "    contours, hierachy= cv2.findContours(img_th.copy(), cv2.RETR_EXTERNAL, cv2.CHAIN_APPROX_NONE)\n",
        "\n",
        "    #경계를 직사각형으로 찾기\n",
        "    rects = [cv2.boundingRect(each) for each in contours]\n",
        "    rects=sorted(rects)\n",
        "    bottom=rects[-1][1]+rects[-1][3]\n",
        "    margin=10\n",
        "    img=img[:bottom+margin,:]\n",
        "    cv2_imshow(img)\n",
        "    return img, rects\n",
        "# for rect in rects:\n",
        "#     print(rect)\n",
        "#     cv2.circle(img, (rect[0],rect[1]),3,(0,0,255), -1)\n",
        "#     cv2.circle(img, (rect[0]+rect[2],rect[1]+rect[3]),3,(0,0,255), -1)\n",
        "#     cv2.rectangle(img,(rect[0],rect[1]),(rect[0]+rect[2],rect[1]+rect[3]),(0,255,0),3)\n",
        "#     cv2_imshow(img)   \n",
        "# print(len(rects))\n",
        "\n",
        "if __name__ == '__main__' :\n",
        "    os.chdir(\"/content/drive/MyDrive/GRADING_Study/kh/header/\")\n",
        "    images=glob.glob('./*.png')\n",
        "    images.sort()\n",
        "    for i in range(len(images)):\n",
        "        filename=images[i]\n",
        "        print(filename)\n",
        "        img,rects=cropBottom(filename)\n",
        "        img_gray=cv2.cvtColor(img, cv2.COLOR_BGR2GRAY) \n",
        "        img_blur = cv2.GaussianBlur(img_gray, (3,3), 0)\n",
        "        ans=[]\n",
        "        #페이지 1인 경우 글자가 많아서 가능\n",
        "        if (len(rects)>30):\n",
        "            print(1)\n",
        "        else:\n",
        "            path='/content/drive/MyDrive/GRADING_Study/kh/crophead/'\n",
        "            name= filename[-6:]\n",
        "            newfile=path+name\n",
        "            w=img.shape[1]\n",
        "            left=img_gray[:,:int(w/4)]\n",
        "            right=img_gray[:,3*int(w/4):]\n",
        "            page=cv2.hconcat([left, right])\n",
        "            cv2_imshow(page)\n",
        "            cv2.imwrite(newfile,page)\n",
        "            #ans=findPage(page)\n",
        "            #resizeImg(page, ans)\n",
        "\n",
        "\n",
        "\n",
        "\n",
        "    \n"
      ],
      "execution_count": null,
      "outputs": []
    },
    {
      "cell_type": "code",
      "metadata": {
        "id": "RgilcHY_32-z"
      },
      "source": [
        "import json\n",
        "\n",
        "import cv2\n",
        "import requests\n",
        "import sys\n",
        "from google.colab.patches import cv2_imshow\n",
        "LIMIT_PX = 1024\n",
        "LIMIT_BYTE = 1024*1024  # 1MB\n",
        "LIMIT_BOX = 40\n",
        "\n",
        "\n",
        "def kakao_ocr_resize(image_path: str):\n",
        "    \"\"\"\n",
        "    ocr detect/recognize api helper\n",
        "    ocr api의 제약사항이 넘어서는 이미지는 요청 이전에 전처리가 필요.\n",
        "\n",
        "    pixel 제약사항 초과: resize\n",
        "    용량 제약사항 초과  : 다른 포맷으로 압축, 이미지 분할 등의 처리 필요. (예제에서 제공하지 않음)\n",
        "\n",
        "    :param image_path: 이미지파일 경로\n",
        "    :return:\n",
        "    \"\"\"\n",
        "    image = cv2.imread(image_path)\n",
        " \n",
        "    height, width, _ = image.shape\n",
        "\n",
        "    if LIMIT_PX < height or LIMIT_PX < width:\n",
        "        ratio = float(LIMIT_PX) / max(height, width)\n",
        "        image = cv2.resize(image, None, fx=ratio, fy=ratio)\n",
        "        height, width, _ = height, width, _ = image.shape\n",
        "\n",
        "        # api 사용전에 이미지가 resize된 경우, recognize시 resize된 결과를 사용해야함.\n",
        "        image_path = \"{}_resized.jpg\".format(image_path)\n",
        "        cv2.imwrite(image_path, image)\n",
        "\n",
        "        return image_path\n",
        "    return None\n",
        "\n",
        "\n",
        "def kakao_ocr(image_path: str, appkey: str):\n",
        "    \"\"\"\n",
        "    OCR api request example\n",
        "    :param image_path: 이미지파일 경로\n",
        "    :param appkey: 카카오 앱 REST API 키\n",
        "    \"\"\"\n",
        "    API_URL = 'https://dapi.kakao.com/v2/vision/text/ocr'\n",
        "\n",
        "    headers = {'Authorization': 'KakaoAK {}'.format(appkey)}\n",
        "\n",
        "    image = cv2.imread(image_path)\n",
        "    jpeg_image = cv2.imencode(\".jpg\", image)[1]\n",
        "    data = jpeg_image.tobytes()\n",
        "\n",
        "\n",
        "    return requests.post(API_URL, headers=headers, files={\"image\": data})\n",
        "# def makeBorder(input):\n",
        "\n",
        "#     im = cv2.imread(input)\n",
        "#     row, col = im.shape[:2]\n",
        "#     bottom = im[row-2:row, 0:col]\n",
        "#     mean = cv2.mean(bottom)[0]\n",
        "\n",
        "#     bordersize = 400\n",
        "#     border = cv2.copyMakeBorder(\n",
        "#         im,\n",
        "#         top=bordersize,\n",
        "#         bottom=bordersize,\n",
        "#         left=bordersize,\n",
        "#         right=bordersize,\n",
        "#         borderType=cv2.BORDER_CONSTANT,\n",
        "#         value=[mean, mean, mean]\n",
        "#     )\n",
        "#     return border\n",
        "\n",
        "#     #cv2_imshow(im)\n",
        "#     #print(\"bottom\")\n",
        "#     #cv2_imshow(bottom)\n",
        "#     print(\"border added\")\n",
        "\n",
        "def main():\n",
        "    if len(sys.argv) != 3:\n",
        "        print(\"Please run with args: $ python example.py /path/to/image appkey\")\n",
        "    image_path, appkey = '/content/drive/MyDrive/GRADING_Study/kh/crophead/12.png', '앱키 여기에 적으면됨'\n",
        "    resize_impath = kakao_ocr_resize(image_path)\n",
        "    if resize_impath is not None:\n",
        "        image_path = resize_impath\n",
        "        print(\"원본 대신 리사이즈된 이미지를 사용합니다.\")\n",
        "\n",
        "    output = kakao_ocr(image_path, appkey).json()\n",
        "    print(\"[OCR] output:\\n{}\\n\".format(json.dumps(output, sort_keys=True, indent=2)))\n",
        "\n",
        "\n",
        "if __name__ == \"__main__\":\n",
        "    main()\n",
        "  \n",
        "\n"
      ],
      "execution_count": null,
      "outputs": []
    },
    {
      "cell_type": "markdown",
      "metadata": {
        "id": "9X7WU9m84Cl5"
      },
      "source": [
        "위의 두개만 쓰면"
      ]
    },
    {
      "cell_type": "code",
      "metadata": {
        "id": "HVQABbZb4B_o"
      },
      "source": [
        ""
      ],
      "execution_count": null,
      "outputs": []
    },
    {
      "cell_type": "code",
      "metadata": {
        "id": "rICRjwnZaZ5S"
      },
      "source": [
        ""
      ],
      "execution_count": null,
      "outputs": []
    },
    {
      "cell_type": "code",
      "metadata": {
        "id": "-F7vvlU4toR0"
      },
      "source": [
        ""
      ],
      "execution_count": null,
      "outputs": []
    }
  ]
}